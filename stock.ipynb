{
 "cells": [
  {
   "cell_type": "code",
   "execution_count": 55,
   "metadata": {},
   "outputs": [],
   "source": [
    "import pandas as pd\n",
    "import quandl as qd\n",
    "import numpy as np\n",
    "import matplotlib.pyplot as plt\n",
    "qd.ApiConfig.api_key = \"<API KEY>\""
   ]
  },
  {
   "cell_type": "code",
   "execution_count": 48,
   "metadata": {},
   "outputs": [
    {
     "data": {
      "text/html": [
       "<div>\n",
       "<style scoped>\n",
       "    .dataframe tbody tr th:only-of-type {\n",
       "        vertical-align: middle;\n",
       "    }\n",
       "\n",
       "    .dataframe tbody tr th {\n",
       "        vertical-align: top;\n",
       "    }\n",
       "\n",
       "    .dataframe thead th {\n",
       "        text-align: right;\n",
       "    }\n",
       "</style>\n",
       "<table border=\"1\" class=\"dataframe\">\n",
       "  <thead>\n",
       "    <tr style=\"text-align: right;\">\n",
       "      <th></th>\n",
       "      <th>Open</th>\n",
       "      <th>High</th>\n",
       "      <th>Low</th>\n",
       "      <th>Close</th>\n",
       "      <th>Volume</th>\n",
       "      <th>Adjustment Factor</th>\n",
       "      <th>Adjustment Type</th>\n",
       "    </tr>\n",
       "    <tr>\n",
       "      <th>Date</th>\n",
       "      <th></th>\n",
       "      <th></th>\n",
       "      <th></th>\n",
       "      <th></th>\n",
       "      <th></th>\n",
       "      <th></th>\n",
       "      <th></th>\n",
       "    </tr>\n",
       "  </thead>\n",
       "  <tbody>\n",
       "    <tr>\n",
       "      <th>2010-01-01</th>\n",
       "      <td>1.192085</td>\n",
       "      <td>1.192085</td>\n",
       "      <td>1.192085</td>\n",
       "      <td>1.192085</td>\n",
       "      <td>0.0</td>\n",
       "      <td>NaN</td>\n",
       "      <td>NaN</td>\n",
       "    </tr>\n",
       "    <tr>\n",
       "      <th>2010-01-04</th>\n",
       "      <td>1.189044</td>\n",
       "      <td>1.198167</td>\n",
       "      <td>1.179921</td>\n",
       "      <td>1.186003</td>\n",
       "      <td>1140.0</td>\n",
       "      <td>NaN</td>\n",
       "      <td>NaN</td>\n",
       "    </tr>\n",
       "    <tr>\n",
       "      <th>2010-01-05</th>\n",
       "      <td>1.186003</td>\n",
       "      <td>1.186003</td>\n",
       "      <td>1.158633</td>\n",
       "      <td>1.173839</td>\n",
       "      <td>1332.0</td>\n",
       "      <td>NaN</td>\n",
       "      <td>NaN</td>\n",
       "    </tr>\n",
       "    <tr>\n",
       "      <th>2010-01-06</th>\n",
       "      <td>1.167756</td>\n",
       "      <td>1.176880</td>\n",
       "      <td>1.149510</td>\n",
       "      <td>1.155592</td>\n",
       "      <td>2343.0</td>\n",
       "      <td>NaN</td>\n",
       "      <td>NaN</td>\n",
       "    </tr>\n",
       "    <tr>\n",
       "      <th>2010-01-07</th>\n",
       "      <td>1.143428</td>\n",
       "      <td>1.164715</td>\n",
       "      <td>1.097813</td>\n",
       "      <td>1.113018</td>\n",
       "      <td>2409.0</td>\n",
       "      <td>NaN</td>\n",
       "      <td>NaN</td>\n",
       "    </tr>\n",
       "  </tbody>\n",
       "</table>\n",
       "</div>"
      ],
      "text/plain": [
       "                Open      High       Low     Close  Volume  Adjustment Factor  \\\n",
       "Date                                                                            \n",
       "2010-01-01  1.192085  1.192085  1.192085  1.192085     0.0                NaN   \n",
       "2010-01-04  1.189044  1.198167  1.179921  1.186003  1140.0                NaN   \n",
       "2010-01-05  1.186003  1.186003  1.158633  1.173839  1332.0                NaN   \n",
       "2010-01-06  1.167756  1.176880  1.149510  1.155592  2343.0                NaN   \n",
       "2010-01-07  1.143428  1.164715  1.097813  1.113018  2409.0                NaN   \n",
       "\n",
       "            Adjustment Type  \n",
       "Date                         \n",
       "2010-01-01              NaN  \n",
       "2010-01-04              NaN  \n",
       "2010-01-05              NaN  \n",
       "2010-01-06              NaN  \n",
       "2010-01-07              NaN  "
      ]
     },
     "execution_count": 48,
     "metadata": {},
     "output_type": "execute_result"
    }
   ],
   "source": [
    "msft_data = qd.get(\"XSHE/200413\",\n",
    "                   start_date=\"2010-01-01\",\n",
    "                   end_date=\"2018-01-01\")\n",
    "wf = pd.DataFrame(msft_data)\n",
    "wf.head()\n"
   ]
  },
  {
   "cell_type": "code",
   "execution_count": 49,
   "metadata": {},
   "outputs": [
    {
     "name": "stdout",
     "output_type": "stream",
     "text": [
      "<class 'pandas.core.frame.DataFrame'>\n",
      "DatetimeIndex: 2087 entries, 2010-01-01 to 2018-01-01\n",
      "Data columns (total 7 columns):\n",
      " #   Column             Non-Null Count  Dtype  \n",
      "---  ------             --------------  -----  \n",
      " 0   Open               2087 non-null   float64\n",
      " 1   High               2087 non-null   float64\n",
      " 2   Low                2087 non-null   float64\n",
      " 3   Close              2087 non-null   float64\n",
      " 4   Volume             2087 non-null   float64\n",
      " 5   Adjustment Factor  4 non-null      float64\n",
      " 6   Adjustment Type    4 non-null      float64\n",
      "dtypes: float64(7)\n",
      "memory usage: 130.4 KB\n"
     ]
    }
   ],
   "source": [
    "wf.info()"
   ]
  },
  {
   "cell_type": "code",
   "execution_count": 53,
   "metadata": {},
   "outputs": [
    {
     "data": {
      "text/html": [
       "<div>\n",
       "<style scoped>\n",
       "    .dataframe tbody tr th:only-of-type {\n",
       "        vertical-align: middle;\n",
       "    }\n",
       "\n",
       "    .dataframe tbody tr th {\n",
       "        vertical-align: top;\n",
       "    }\n",
       "\n",
       "    .dataframe thead th {\n",
       "        text-align: right;\n",
       "    }\n",
       "</style>\n",
       "<table border=\"1\" class=\"dataframe\">\n",
       "  <thead>\n",
       "    <tr style=\"text-align: right;\">\n",
       "      <th></th>\n",
       "      <th>Close</th>\n",
       "    </tr>\n",
       "    <tr>\n",
       "      <th>Date</th>\n",
       "      <th></th>\n",
       "    </tr>\n",
       "  </thead>\n",
       "  <tbody>\n",
       "    <tr>\n",
       "      <th>2010-01-01</th>\n",
       "      <td>0.000000</td>\n",
       "    </tr>\n",
       "    <tr>\n",
       "      <th>2010-01-04</th>\n",
       "      <td>-0.005102</td>\n",
       "    </tr>\n",
       "    <tr>\n",
       "      <th>2010-01-05</th>\n",
       "      <td>-0.010256</td>\n",
       "    </tr>\n",
       "    <tr>\n",
       "      <th>2010-01-06</th>\n",
       "      <td>-0.015545</td>\n",
       "    </tr>\n",
       "    <tr>\n",
       "      <th>2010-01-07</th>\n",
       "      <td>-0.036842</td>\n",
       "    </tr>\n",
       "  </tbody>\n",
       "</table>\n",
       "</div>"
      ],
      "text/plain": [
       "               Close\n",
       "Date                \n",
       "2010-01-01  0.000000\n",
       "2010-01-04 -0.005102\n",
       "2010-01-05 -0.010256\n",
       "2010-01-06 -0.015545\n",
       "2010-01-07 -0.036842"
      ]
     },
     "execution_count": 53,
     "metadata": {},
     "output_type": "execute_result"
    }
   ],
   "source": [
    "\n",
    "close_price = wf[['Close']]\n",
    " \n",
    "\n",
    "daily_return = close_price.pct_change()\n",
    " \n",
    "\n",
    "daily_return.fillna(0, inplace=True)\n",
    "\n",
    "daily_return.head()"
   ]
  },
  {
   "cell_type": "code",
   "execution_count": 54,
   "metadata": {},
   "outputs": [
    {
     "name": "stdout",
     "output_type": "stream",
     "text": [
      "Date\n",
      "2017-12-19    5.681983\n",
      "2017-12-20    5.666306\n",
      "2017-12-21    5.651203\n",
      "2017-12-22    5.636864\n",
      "2017-12-25    5.623481\n",
      "2017-12-26    5.610672\n",
      "2017-12-27    5.597289\n",
      "2017-12-28    5.586965\n",
      "2017-12-29    5.576450\n",
      "2018-01-01    5.565935\n",
      "Name: Close, dtype: float64\n"
     ]
    }
   ],
   "source": [
    "adj_price = wf['Close']\n",
    "mav= adj_price.rolling(window=50).mean()\n",
    "print(mav[-10:])"
   ]
  },
  {
   "cell_type": "code",
   "execution_count": 58,
   "metadata": {},
   "outputs": [
    {
     "data": {
      "text/plain": [
       "<Axes: xlabel='Date'>"
      ]
     },
     "execution_count": 58,
     "metadata": {},
     "output_type": "execute_result"
    },
    {
     "data": {
      "image/png": "[encoded data removed]",
      "text/plain": [
       "<Figure size 640x480 with 1 Axes>"
      ]
     },
     "metadata": {},
     "output_type": "display_data"
    }
   ],
   "source": [
    "adj_price.plot()\n",
    "\n",
    "mav.plot()"
   ]
  }
 ],
 "metadata": {
  "kernelspec": {
   "display_name": "Python 3",
   "language": "python",
   "name": "python3"
  },
  "language_info": {
   "codemirror_mode": {
    "name": "ipython",
    "version": 3
   },
   "file_extension": ".py",
   "mimetype": "text/x-python",
   "name": "python",
   "nbconvert_exporter": "python",
   "pygments_lexer": "ipython3",
   "version": "3.11.0"
  },
  "orig_nbformat": 4
 },
 "nbformat": 4,
 "nbformat_minor": 2
}
